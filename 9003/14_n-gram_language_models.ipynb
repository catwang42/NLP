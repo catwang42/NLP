{
 "cells": [
  {
   "cell_type": "markdown",
   "metadata": {},
   "source": [
    "# *N*-gram Language Models"
   ]
  },
  {
   "cell_type": "markdown",
   "metadata": {},
   "source": [
    "In this notebook, we'll be building bigram *n*-gram language models from scratch. The first part of building a language model is collecting counts from corpora. To avoid problems with unknown words, we'll turn all *hapax legomena* (words that appear once) to UNK, and we'll also lower case everything and add `<s>` (start) and `</s>` (end) symbols at the beginning and end of each sentence. For bigrams, we are using dictionaries of dictionaries with the strings as keys, which is a convenient though not particularly memory efficient way to represent things. We will use the unigram counts later for doing smoothing."
   ]
  },
  {
   "cell_type": "code",
   "execution_count": null,
   "metadata": {
    "collapsed": false,
    "scrolled": true
   },
   "outputs": [],
   "source": [
    "from collections import defaultdict\n",
    "\n",
    "def add_unks(word,unigram_counts):\n",
    "    if word in unigram_counts:\n",
    "        return word\n",
    "    else:\n",
    "        return \"UNK\"\n",
    "\n",
    "def convert_sentence_train(sentence,unigram_counts):\n",
    "    return [\"<s>\"] + [add_unks(token.lower(),unigram_counts) for token in sentence] + [\"</s>\"]\n",
    "\n",
    "def get_counts(sentences):\n",
    "    bigram_counts = defaultdict(dict)\n",
    "    unigram_counts = {}\n",
    "    unigram_counts[\"<s>\"] = 0\n",
    "    # collect initial unigram statistics\n",
    "    for sentence in sentences:\n",
    "        for word in sentence:\n",
    "            word = word.lower()\n",
    "            unigram_counts[word] = unigram_counts.get(word,0) + 1\n",
    "        unigram_counts[\"<s>\"] += 1\n",
    "    unigram_counts[\"</s>\"] = unigram_counts[\"<s>\"]\n",
    "    # convert hapax legomena to UNK\n",
    "    unk_words = []\n",
    "    for word in unigram_counts:\n",
    "        if unigram_counts[word] == 1:\n",
    "            unk_words.append(word)\n",
    "    unigram_counts[\"UNK\"] = len(unk_words)\n",
    "    for word in unk_words:\n",
    "        del unigram_counts[word]\n",
    "    # collect bigram counts\n",
    "    for sentence in sentences:\n",
    "        sentence = convert_sentence_train(sentence, unigram_counts)\n",
    "        for i in range(len(sentence) - 1):\n",
    "            bigram_counts[sentence[i]][sentence[i+1]] = bigram_counts[sentence[i]].get(sentence[i+1],0) + 1\n",
    "            \n",
    "    token_count = float(sum(unigram_counts.values()))\n",
    "    return unigram_counts, bigram_counts, token_count"
   ]
  },
  {
   "cell_type": "markdown",
   "metadata": {},
   "source": [
    "Once we have counts, we can use them to generate sentences. Here we use [numpy.random.choice](http://docs.scipy.org/doc/numpy-dev/reference/generated/numpy.random.choice.html), which allows us to randomly choose from a list based on a corresponding list of probabilities, which we calculate by normalizing the raw counts. We start with &lt;s&gt;, and generate the next word given the bigram counts which begin with &lt;s&gt;, and then use that word to generate the next word, etc. It stops when it generates an &lt;/s&gt;. We return a string with some fixes to make the sentence look a proper sentence."
   ]
  },
  {
   "cell_type": "code",
   "execution_count": null,
   "metadata": {
    "collapsed": false,
    "scrolled": true
   },
   "outputs": [],
   "source": [
    "from numpy.random import choice \n",
    "\n",
    "def generate_sentence(bigram_counts):\n",
    "    sentence = [\"<s>\"]\n",
    "    while sentence[-1] != \"</s>\":\n",
    "        prev_token_counts = bigram_counts[sentence[-1]]\n",
    "        bigram_probabilities = []\n",
    "        total_counts = float(sum(prev_token_counts.values()))\n",
    "        for token in prev_token_counts:\n",
    "            bigram_probabilities.append(prev_token_counts[token]/total_counts)\n",
    "        sentence.append(choice(prev_token_counts.keys(), p=bigram_probabilities))\n",
    "    return \" \".join([sentence[1].title()] + sentence[2:-1]).replace(\" ,\",\",\").replace(\" .\", \".\")\n",
    "        \n",
    "            "
   ]
  },
  {
   "cell_type": "markdown",
   "metadata": {},
   "source": [
    "Now let's try out our *n*-gram driven sentence generator on samples from two corpora: the Penn Treebank, and some out-of-copyright English literature from Project Gutenberg:"
   ]
  },
  {
   "cell_type": "code",
   "execution_count": null,
   "metadata": {
    "collapsed": false,
    "scrolled": false
   },
   "outputs": [],
   "source": [
    "from nltk.corpus import gutenberg, treebank\n",
    "gutenberg_unigrams, gutenberg_bigrams, gutenberg_token_count = get_counts(gutenberg.sents())\n",
    "print \"Gutenberg\"\n",
    "for i in range(1,6):\n",
    "    print \"Sentence %d\" % i \n",
    "    print generate_sentence(gutenberg_bigrams)\n",
    "    \n",
    "treebank_unigrams, treebank_bigrams, treebank_token_count = get_counts(treebank.sents())\n",
    "print \"Treebank\"\n",
    "for i in range(1,6):\n",
    "    print \"Sentence %d\" % i \n",
    "    print generate_sentence(treebank_bigrams)"
   ]
  },
  {
   "cell_type": "markdown",
   "metadata": {},
   "source": [
    "Generally, we can see some local coherence but most of these sentences are complete nonsense. Across the two corpora, the sentences are noticeably different, it's very obvious that the model from Project Gutenberg is trained on literature, whereas the Penn Treebank data is financial. For the latter, there are some strange tokens (those starting with \\*) we should probably have filtered out; there are some UNK tokens, which is to be expected: there are a lot of words that appear only once which makes it a fairly common word type.\n",
    "\n",
    "Using language models to generate sentences is fun but not very useful. A more practical application is the ability to assign a probability to a sentence. In order to do that for anything but toy examples, however, we will need to smooth our models so it doesn't assign a zero probability to the sentence whenever it sees a bigram. Here, we'll test two fairly simple smoothing techniques, add-*k* smoothing and interpolated smoothing. For the latter, we'll control the trade-off between bigrams and unigrams with a simple parameter (bigram_lambda). In both cases, we will calculate the log probability, to avoid working with very small numbers. The functions below give the probability for a single word at index i in a sentence."
   ]
  },
  {
   "cell_type": "code",
   "execution_count": null,
   "metadata": {
    "collapsed": false,
    "scrolled": false
   },
   "outputs": [],
   "source": [
    "import math\n",
    "\n",
    "def get_log_prob_addk(sentence,i, unigram_counts,bigram_counts, k):\n",
    "    return math.log((bigram_counts[sentence[i-1]].get(sentence[i],0) + k)/ \\\n",
    "                    (unigram_counts[sentence[i-1]] + k*len(unigram_counts)))\n",
    "\n",
    "\n",
    "def get_log_prob_interp(sentence,i, unigram_counts,bigram_counts,token_count, bigram_lambda):    \n",
    "    return math.log(bigram_lambda*bigram_counts[sentence[i-1]].get(sentence[i],0)/float(unigram_counts[sentence[i-1]]) + \\\n",
    "                    (1 - bigram_lambda)*unigram_counts[sentence[i]]/token_count)\n"
   ]
  },
  {
   "cell_type": "markdown",
   "metadata": {},
   "source": [
    "Extending this to calculate the probability of an entire sentence is trivial, except we need to be careful to deal with words we've never seen before, which should be converted to UNK."
   ]
  },
  {
   "cell_type": "code",
   "execution_count": null,
   "metadata": {
    "collapsed": false,
    "scrolled": true
   },
   "outputs": [],
   "source": [
    "def convert_sentence_test(sentence,unigram_counts):\n",
    "    return [\"<s>\"] + [add_unks(word.lower(),unigram_counts) for word in sentence] + [\"</s>\"]\n",
    "\n",
    "def get_sent_log_prob_addk(sentence, unigram_counts, bigram_counts, token_count, k):\n",
    "    sentence = convert_sentence_test(sentence, unigram_counts)\n",
    "    return sum([get_log_prob_addk(sentence,i, unigram_counts,bigram_counts,k) for i in range(1,len(sentence))])\n",
    "\n",
    "def get_sent_log_prob_interp(sentence, unigram_counts, bigram_counts, token_count, bigram_lambda):\n",
    "    sentence = convert_sentence_test(sentence, unigram_counts)\n",
    "    return sum([get_log_prob_interp(sentence,i, unigram_counts,bigram_counts,token_count,bigram_lambda) for i in range(1,len(sentence))])\n",
    "\n",
    "sentence = \"revenue increased last quarter .\".split()\n",
    "print get_sent_log_prob_addk(sentence, gutenberg_unigrams, gutenberg_bigrams, gutenberg_token_count, 0.05)\n",
    "print get_sent_log_prob_interp(sentence, gutenberg_unigrams, gutenberg_bigrams, gutenberg_token_count,0.95)\n",
    "print get_sent_log_prob_addk(sentence, treebank_unigrams, treebank_bigrams, treebank_token_count, 0.05)\n",
    "print get_sent_log_prob_interp(sentence, treebank_unigrams, treebank_bigrams, treebank_token_count,0.95)"
   ]
  },
  {
   "cell_type": "markdown",
   "metadata": {},
   "source": [
    "The output for our sample sentence looks reasonable, in particular using the Treebank model results in a noticeably higher probability, which is what we'd expect given the input sentence. The differences in probability between the different smoothing techniques is more modest (though keep in mind this is a logrithmic scale). Now, let's use perplexity to evaluate different smoothing techniques at the level of the corpus. For this, we'll use the Brown corpus again, dividing it up randomly into a training set and a test set based on an 80/20 split."
   ]
  },
  {
   "cell_type": "code",
   "execution_count": null,
   "metadata": {
    "collapsed": false,
    "scrolled": true
   },
   "outputs": [],
   "source": [
    "from nltk.corpus import brown\n",
    "from random import shuffle\n",
    "\n",
    "sents = list(brown.sents())\n",
    "shuffle(sents)\n",
    "cutoff = int(0.8*len(sents))\n",
    "training_set = sents[:cutoff]\n",
    "test_set = [[word.lower() for word in sent] for sent in sents[cutoff:]]\n",
    "\n",
    "brown_unigrams, brown_bigrams, brown_token_count = get_counts(training_set)"
   ]
  },
  {
   "cell_type": "markdown",
   "metadata": {},
   "source": [
    "Since our probabilities are in log space, we will calculate perplexity in log space as well, then take the exponential at the end\n",
    "\n",
    "$PP(W) = \\sqrt[m]{\\frac{1}{P(W)}}$\n",
    "\n",
    "$\\log{PP(W)} = -\\frac{1}{m} \\log{P(W)}$"
   ]
  },
  {
   "cell_type": "code",
   "execution_count": null,
   "metadata": {
    "collapsed": false,
    "scrolled": true
   },
   "outputs": [],
   "source": [
    "def calculate_perplexity(sentences,unigram_counts,bigram_counts, token_count, smoothing_function, parameter):\n",
    "    total_log_prob = 0\n",
    "    test_token_count = 0\n",
    "    for sentence in sentences:\n",
    "        test_token_count += len(sentence) + 1 # have to consider the end token\n",
    "        total_log_prob += smoothing_function(sentence,unigram_counts,bigram_counts,token_count, parameter)\n",
    "    return math.exp(-total_log_prob/test_token_count)\n",
    "\n",
    "                "
   ]
  },
  {
   "cell_type": "markdown",
   "metadata": {
    "collapsed": true
   },
   "source": [
    "Let's see how our two smoothing techniques do with a range of possible parameter values "
   ]
  },
  {
   "cell_type": "code",
   "execution_count": null,
   "metadata": {
    "collapsed": false,
    "scrolled": true
   },
   "outputs": [],
   "source": [
    "print \"add k\"\n",
    "for k in [0.0001,0.001,0.01, 0.05,0.2,1.0]:\n",
    "    print k\n",
    "    print calculate_perplexity(test_set,brown_unigrams,brown_bigrams,brown_token_count,get_sent_log_prob_addk,k)\n",
    "print \"interpolation\"\n",
    "for bigram_lambda in [0.99,0.95,0.75,0.5,0.25,0.001]:\n",
    "    print bigram_lambda\n",
    "    print calculate_perplexity(test_set,brown_unigrams,brown_bigrams,brown_token_count,get_sent_log_prob_interp,bigram_lambda)   "
   ]
  },
  {
   "cell_type": "markdown",
   "metadata": {},
   "source": [
    "Our results indicate that, with regards to perplexity, interpolation is generally better than add k. Very low (though not too low) k is preferred for add k, wheres our best bigram lambda is in the middle of the range, though apparently with a small preference for more weight on the bigram probability, which makes sense.\n",
    "\n",
    "From the basis given here, you can try playing around with some of the other corpora in NLTK and see if you get similar results. You could also implement a trigram model, or another kind of smoothing, to see if you can get better perplexity scores."
   ]
  }
 ],
 "metadata": {
  "kernelspec": {
   "display_name": "Python 2",
   "language": "python",
   "name": "python2"
  },
  "language_info": {
   "codemirror_mode": {
    "name": "ipython",
    "version": 2
   },
   "file_extension": ".py",
   "mimetype": "text/x-python",
   "name": "python",
   "nbconvert_exporter": "python",
   "pygments_lexer": "ipython2",
   "version": "2.7.10"
  }
 },
 "nbformat": 4,
 "nbformat_minor": 0
}
