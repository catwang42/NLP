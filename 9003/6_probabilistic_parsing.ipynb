{
 "cells": [
  {
   "cell_type": "markdown",
   "metadata": {},
   "source": [
    "# Probabilistic CFG parsing"
   ]
  },
  {
   "cell_type": "markdown",
   "metadata": {},
   "source": [
    "This notebook demonstrates the process behind parsing with a probabilistic (weighted) context free grammar. The algorithm here is based on the CYK algorithm for PCFG parsing, as described in Figure 14.3 J&M2 and presented in the lecture. Note that NLTK implements a few probabilistic parsing methods internally, which are a little different to the algorithm presented in the lecture but are an excellent resource (see pointer at the bottom)."
   ]
  },
  {
   "cell_type": "code",
   "execution_count": 1,
   "metadata": {
    "collapsed": false
   },
   "outputs": [],
   "source": [
    "import nltk\n",
    "import nltk.grammar\n",
    "from collections import defaultdict\n",
    "from IPython.core.display import display, HTML"
   ]
  },
  {
   "cell_type": "markdown",
   "metadata": {},
   "source": [
    "As a warm-up let's start by creating a standard (unweighted) CFG grammar and parse a simple sentence."
   ]
  },
  {
   "cell_type": "code",
   "execution_count": 2,
   "metadata": {
    "collapsed": false
   },
   "outputs": [],
   "source": [
    "groucho_grammar = nltk.CFG.fromstring(\"\"\"\n",
    "S -> NP VP\n",
    "PP -> P NP\n",
    "NP -> Det N | Det N PP | 'I'\n",
    "VP -> V NP | VP PP\n",
    "Det -> 'a' | 'an' | 'my' | 'the' \n",
    "N -> 'elephant' | 'pajamas' | 'shot'\n",
    "V -> 'shot'\n",
    "P -> 'in'\n",
    "\"\"\")"
   ]
  },
  {
   "cell_type": "markdown",
   "metadata": {},
   "source": [
    "Our sentence is chosen to be ambiguous, note that there are two ways in which the following can be parsed."
   ]
  },
  {
   "cell_type": "code",
   "execution_count": 4,
   "metadata": {
    "collapsed": false
   },
   "outputs": [
    {
     "name": "stdout",
     "output_type": "stream",
     "text": [
      "2\n",
      "(S\n",
      "  (NP I)\n",
      "  (VP\n",
      "    (VP (V shot) (NP (Det an) (N elephant)))\n",
      "    (PP (P in) (NP (Det my) (N pajamas)))))\n",
      "(S\n",
      "  (NP I)\n",
      "  (VP\n",
      "    (V shot)\n",
      "    (NP (Det an) (N elephant) (PP (P in) (NP (Det my) (N pajamas))))))\n"
     ]
    }
   ],
   "source": [
    "sent = ['I', 'shot', 'an', 'elephant', 'in', 'my', 'pajamas']\n",
    "parser = nltk.ChartParser(groucho_grammar)\n",
    "trees = list(parser.parse(sent))\n",
    "print(len(trees))\n",
    "print(trees[0])\n",
    "print(trees[1])"
   ]
  },
  {
   "cell_type": "markdown",
   "metadata": {},
   "source": [
    "These trees can be visualised in a more comprehensible way"
   ]
  },
  {
   "cell_type": "code",
   "execution_count": 7,
   "metadata": {
    "collapsed": false
   },
   "outputs": [
    {
     "data": {
      "image/png": "[encoded data removed]",
      "text/plain": [
       "Tree('S', [Tree('NP', ['I']), Tree('VP', [Tree('VP', [Tree('V', ['shot']), Tree('NP', [Tree('Det', ['an']), Tree('N', ['elephant'])])]), Tree('PP', [Tree('P', ['in']), Tree('NP', [Tree('Det', ['my']), Tree('N', ['pajamas'])])])])])"
      ]
     },
     "execution_count": 7,
     "metadata": {},
     "output_type": "execute_result"
    }
   ],
   "source": [
    "trees[0]"
   ]
  },
  {
   "cell_type": "markdown",
   "metadata": {},
   "source": [
    "If you get a lot of warnings in the above, and no pretty tree, then that means you're missing the *ghostview* library. It comes standard with linux and mac, I think, but you may need to install it yourself on windows. You can obtain a copy of the GPL binary [from the ghostview website](http://www.ghostscript.com/download/gsdnld.html). If you're on a locked-down machine, and can't install, you may want to view the tree as follows:"
   ]
  },
  {
   "cell_type": "code",
   "execution_count": 8,
   "metadata": {
    "collapsed": false
   },
   "outputs": [
    {
     "name": "stdout",
     "output_type": "stream",
     "text": [
      "     S                                       \n",
      "  ___|______________                          \n",
      " |                  VP                       \n",
      " |         _________|__________               \n",
      " |        VP                   PP            \n",
      " |    ____|___              ___|___           \n",
      " |   |        NP           |       NP        \n",
      " |   |     ___|_____       |    ___|_____     \n",
      " NP  V   Det        N      P  Det        N   \n",
      " |   |    |         |      |   |         |    \n",
      " I  shot  an     elephant  in  my     pajamas\n",
      "\n"
     ]
    }
   ],
   "source": [
    "# ASCII art\n",
    "trees[0].pretty_print()"
   ]
  },
  {
   "cell_type": "code",
   "execution_count": 9,
   "metadata": {
    "collapsed": true
   },
   "outputs": [],
   "source": [
    "# launches a popup window\n",
    "trees[0].draw()"
   ]
  },
  {
   "cell_type": "markdown",
   "metadata": {},
   "source": [
    "And here's the other tree"
   ]
  },
  {
   "cell_type": "code",
   "execution_count": 10,
   "metadata": {
    "collapsed": false
   },
   "outputs": [
    {
     "data": {
      "image/png": "[encoded data removed]",
      "text/plain": [
       "Tree('S', [Tree('NP', ['I']), Tree('VP', [Tree('V', ['shot']), Tree('NP', [Tree('Det', ['an']), Tree('N', ['elephant']), Tree('PP', [Tree('P', ['in']), Tree('NP', [Tree('Det', ['my']), Tree('N', ['pajamas'])])])])])])"
      ]
     },
     "execution_count": 10,
     "metadata": {},
     "output_type": "execute_result"
    }
   ],
   "source": [
    "trees[1]"
   ]
  },
  {
   "cell_type": "markdown",
   "metadata": {},
   "source": [
    "Now we will move to a PCFG, where each rule has a weight denoted by a bracket [number] after each production. Here's a fairly simple (different) grammar, which we will use to develop and demonstrate the CYK parsing algorithm."
   ]
  },
  {
   "cell_type": "code",
   "execution_count": 11,
   "metadata": {
    "collapsed": false
   },
   "outputs": [],
   "source": [
    "toy_pcfg2 = nltk.grammar.PCFG.fromstring(\"\"\"\n",
    "    S    -> NP VP         [1.0]\n",
    "    VP   -> V NP          [.59]\n",
    "    VP   -> V             [.40]\n",
    "    VP   -> VP PP         [.01]\n",
    "    NP   -> Det N         [.41]\n",
    "    NP   -> Name          [.28]\n",
    "    NP   -> NP PP         [.31]\n",
    "    PP   -> P NP          [1.0]\n",
    "    V    -> 'saw'         [.21]\n",
    "    V    -> 'ate'         [.51]\n",
    "    V    -> 'ran'         [.28]\n",
    "    N    -> 'boy'         [.11]\n",
    "    N    -> 'cookie'      [.12]\n",
    "    N    -> 'table'       [.13]\n",
    "    N    -> 'telescope'   [.14]\n",
    "    N    -> 'hill'        [.5]\n",
    "    Name -> 'Jack'        [.52]\n",
    "    Name -> 'Bob'         [.48]\n",
    "    P    -> 'with'        [.61]\n",
    "    P    -> 'under'       [.39]\n",
    "    Det  -> 'the'         [.41]\n",
    "    Det  -> 'a'           [.31]\n",
    "    Det  -> 'my'          [.28]\n",
    "    \"\"\")"
   ]
  },
  {
   "cell_type": "markdown",
   "metadata": {},
   "source": [
    "First we need to check that the grammar is in Chomsky normal form (CNF), as this is a condition for using the CYK parsing algorithm. Recall that CNF means that all rules are either X -> A B or X -> 'word', where capitals denote non-terminal symbols."
   ]
  },
  {
   "cell_type": "code",
   "execution_count": 13,
   "metadata": {
    "collapsed": false
   },
   "outputs": [
    {
     "name": "stdout",
     "output_type": "stream",
     "text": [
      "False\n",
      "True\n"
     ]
    }
   ],
   "source": [
    "print(toy_pcfg2.is_chomsky_normal_form())\n",
    "print(toy_pcfg2.is_flexible_chomsky_normal_form())"
   ]
  },
  {
   "cell_type": "markdown",
   "metadata": {},
   "source": [
    "Nope. This is because of the unary productions X -> Y. Note that these can cause problems, especially when there is a loop (NP -> PP -> NP ...). This means the grammar can produce infinitely deep trees, and generally makes the algorithm more complex, as we would have to reduce the grammar to CNF by solving the total probability over any length chain. Note that as the probability of each production is bounded, $0 \\le p \\le 1$, long chains tend to be increasingly improbable.  However note that our grammar has no unary cycles, so we can ignore this problem. *Do you have any ideas on how this might be handled properly, in general?*"
   ]
  },
  {
   "cell_type": "markdown",
   "metadata": {},
   "source": [
    "We can interact with the grammar in several ways. Have a little play below, e.g., to lookup a production and query its attributes."
   ]
  },
  {
   "cell_type": "code",
   "execution_count": 15,
   "metadata": {
    "collapsed": false
   },
   "outputs": [
    {
     "name": "stdout",
     "output_type": "stream",
     "text": [
      "0.21\n",
      "V\n",
      "[VP -> V NP [0.59], VP -> V [0.4]]\n"
     ]
    }
   ],
   "source": [
    "p = toy_pcfg2.productions(rhs='saw')[0]\n",
    "print(p.prob())\n",
    "print(p.lhs())\n",
    "q = toy_pcfg2.productions(rhs=p.lhs())\n",
    "print(q)"
   ]
  },
  {
   "cell_type": "markdown",
   "metadata": {},
   "source": [
    "Now for the CYK parsing algorithm. This operates by incrementally constructing a *chart (table)* using dynamic programming. The chart stores the partial results thus far, which encodes the best scoring tree structure for substrings of the input sentence. These partial results are extended incrementally to find the best scoring structure for the whole sentence.\n",
    "\n",
    "Recall that a sentence is indexed by the spaces between words, e.g.,\n",
    "\n",
    "        0 this 1 is 2 an 3 example 4\n",
    "        \n",
    "such that words or strings of words can be represented as a pair of [start, end] indices. E.g., [2,3] = an; [1,4] = is an example. Each element in the chart is indexed as:\n",
    "\n",
    "        table[i, j][non-terminal]\n",
    "        \n",
    "which stores a probability for parsing the string [i, j]. The CYK algorithm builds these from smaller units by searching for all i < k < j and all productions such that previous analyses that cover [i,k] and [k,j] might be combined using a binary production to cover [i,j]. For this to be valid, the symbols for the two spans must match the RHS of a production in the grammar, and the resulting non-terminal is the LHS of the production. \n",
    "\n",
    "You'll need to read J&M2 and the lecture slides for more details, or tinker with the code below to understand the process. (E.g., by adding a display call into the j loop.) "
   ]
  },
  {
   "cell_type": "code",
   "execution_count": 43,
   "metadata": {
    "collapsed": false
   },
   "outputs": [],
   "source": [
    "def parse_CYK(words, grammar):\n",
    "    table = defaultdict(dict)    \n",
    "    back = defaultdict(dict)\n",
    "    \n",
    "    # righter-most index j\n",
    "    for j in range(1, len(words)+1):\n",
    "        # insert token preterminal rewrites, POS -> 'word'\n",
    "        token = words[j-1]\n",
    "        for prod in grammar.productions(rhs=token):\n",
    "            if len(prod.rhs()) == 1:\n",
    "                table[j-1,j][prod.lhs()] = prod.prob()\n",
    "\n",
    "        # deal with pesky unary productions \n",
    "        changes = True\n",
    "        cell = table[j-1,j]\n",
    "        while changes:\n",
    "            # repeat this loop until no rule changes; will infinitely\n",
    "            # loop for grammars with a unary cycle\n",
    "            changes = False\n",
    "            for non_term in list(cell.keys()):\n",
    "                prob = cell[non_term]\n",
    "                for prod in grammar.productions(rhs=non_term):\n",
    "                    if len(prod.rhs()) == 1:\n",
    "                        unary_prob = prod.prob() * prob\n",
    "                        if unary_prob > cell.get(prod.lhs(), 0):\n",
    "                            cell[prod.lhs()] = unary_prob\n",
    "                            back[j-1,j][prod.lhs()] = (None, prod)\n",
    "                            changes = True\n",
    "        \n",
    "        # now look for larger productions that span [i, j]\n",
    "        # allowing i to move leftward over the input\n",
    "        for i in range(j-2, -1, -1):\n",
    "            cell = table[i,j]\n",
    "            # k is the split point, i < k < j\n",
    "            for k in range(i+1, j):\n",
    "                # find chart cells based on the split point\n",
    "                left_cell = table[i,k]\n",
    "                right_cell = table[k,j]\n",
    "                # find binary productions which handle a valid symbol A from left cell, X -> A B\n",
    "                for left_nt, left_prob in left_cell.items():\n",
    "                    for prod in grammar.productions(rhs=left_nt):\n",
    "                        if len(prod.rhs()) == 2:\n",
    "                            # check if the left and right cells have a valid parse\n",
    "                            right_prob = right_cell.get(prod.rhs()[1])\n",
    "                            if left_prob != None and right_prob != None:\n",
    "                                # score the partial parse\n",
    "                                prob = prod.prob() * left_prob * right_prob\n",
    "                                if prob > cell.get(prod.lhs(), 0.0):\n",
    "                                    # if it exceeds the current best analysis, update the cell\n",
    "                                    cell[prod.lhs()] = prob\n",
    "                                    # and store a record of how we got here\n",
    "                                    back[i,j][prod.lhs()] = (k, prod)\n",
    "    \n",
    "    # display the table and back pointers\n",
    "    display_CYK_chart(words, table, back)\n",
    "\n",
    "    # have to build the tree from the back pointers\n",
    "    return build_tree(words, back, grammar.start(), i=0, j=len(words))"
   ]
  },
  {
   "cell_type": "markdown",
   "metadata": {},
   "source": [
    "We now need to write the remaining functions. First creating the tree from the back-pointers, which operates recursively starting at the word sentence headed by the start symbol 'S' (i.e., cell [0, length, S]). Then it follows the back pointers to find where the span was split and what the child symbols were.  "
   ]
  },
  {
   "cell_type": "code",
   "execution_count": 44,
   "metadata": {
    "collapsed": true
   },
   "outputs": [],
   "source": [
    "def build_tree(words, back, symbol, i, j):\n",
    "    backpointer = back[i, j].get(symbol)\n",
    "    if backpointer == None:\n",
    "        # X -> 'word' production\n",
    "        assert j == i+1\n",
    "        return nltk.tree.Tree(symbol, [words[i]])\n",
    "    else:\n",
    "        k, prod = back[i, j][symbol]\n",
    "        if k != None:\n",
    "            # X -> A B binary production\n",
    "            left_subtree = build_tree(words, back, prod.rhs()[0], i=i, j=k)\n",
    "            right_subtree = build_tree(words, back, prod.rhs()[1], i=k, j=j)\n",
    "            return nltk.tree.Tree(symbol, [left_subtree, right_subtree])\n",
    "        else:\n",
    "            # X -> A unary production\n",
    "            subtree = build_tree(words, back, prod.rhs()[0], i=i, j=j)\n",
    "            return nltk.tree.Tree(symbol, [subtree])"
   ]
  },
  {
   "cell_type": "markdown",
   "metadata": {},
   "source": [
    "And some pretty printing code to view the chart."
   ]
  },
  {
   "cell_type": "code",
   "execution_count": 45,
   "metadata": {
    "collapsed": true
   },
   "outputs": [],
   "source": [
    "def display_CYK_chart(words, table, back):\n",
    "    length = len(words)\n",
    "    html = ''\n",
    "    html += '<tr>'\n",
    "    for i in range(length):\n",
    "        html += '<td><i>%s<i></td>' % words[i]\n",
    "    html += '</tr>'\n",
    "    for i in range(length):\n",
    "        html += '<tr>'\n",
    "        for j in range(1, length+1):\n",
    "            if j <= i:\n",
    "                html += '<td>'\n",
    "            else:\n",
    "                html += \"<td bgcolor='lightcyan'>\"\n",
    "                html += '[%d,%d]' % (i,j) \n",
    "                for symbol, prob in table.get((i,j), {}).items():\n",
    "                    html += '<br><b>%s</b> [%.5f]' % (str(symbol), prob)\n",
    "                    b = back[i,j].get(symbol)\n",
    "                    if b != None:\n",
    "                        html += '<br>&nbsp; (k=%s, %s)' % (b[0], str(b[1]))\n",
    "            html += '</td>'\n",
    "        html += '</tr>'\n",
    "    display(HTML(html))"
   ]
  },
  {
   "cell_type": "markdown",
   "metadata": {},
   "source": [
    "Finally we are ready to parse! Let's set it loose on a simple sentence."
   ]
  },
  {
   "cell_type": "code",
   "execution_count": 46,
   "metadata": {
    "collapsed": false
   },
   "outputs": [
    {
     "data": {
      "text/html": [
       "<tr><td><i>Jack<i></td><td><i>saw<i></td><td><i>Bob<i></td><td><i>with<i></td><td><i>my<i></td><td><i>cookie<i></td></tr><tr><td bgcolor='lightcyan'>[0,1]<br><b>Name</b> [0.52000]<br><b>NP</b> [0.14560]<br>&nbsp; (k=None, NP -> Name [0.28])</td><td bgcolor='lightcyan'>[0,2]<br><b>S</b> [0.01223]<br>&nbsp; (k=1, S -> NP VP [1.0])</td><td bgcolor='lightcyan'>[0,3]<br><b>S</b> [0.00242]<br>&nbsp; (k=1, S -> NP VP [1.0])</td><td bgcolor='lightcyan'>[0,4]</td><td bgcolor='lightcyan'>[0,5]</td><td bgcolor='lightcyan'>[0,6]<br><b>S</b> [0.00001]<br>&nbsp; (k=1, S -> NP VP [1.0])</td></tr><tr><td></td><td bgcolor='lightcyan'>[1,2]<br><b>VP</b> [0.08400]<br>&nbsp; (k=None, VP -> V [0.4])<br><b>V</b> [0.21000]</td><td bgcolor='lightcyan'>[1,3]<br><b>VP</b> [0.01665]<br>&nbsp; (k=2, VP -> V NP [0.59])</td><td bgcolor='lightcyan'>[1,4]</td><td bgcolor='lightcyan'>[1,5]</td><td bgcolor='lightcyan'>[1,6]<br><b>VP</b> [0.00004]<br>&nbsp; (k=2, VP -> V NP [0.59])</td></tr><tr><td></td><td></td><td bgcolor='lightcyan'>[2,3]<br><b>Name</b> [0.48000]<br><b>NP</b> [0.13440]<br>&nbsp; (k=None, NP -> Name [0.28])</td><td bgcolor='lightcyan'>[2,4]</td><td bgcolor='lightcyan'>[2,5]</td><td bgcolor='lightcyan'>[2,6]<br><b>NP</b> [0.00035]<br>&nbsp; (k=3, NP -> NP PP [0.31])</td></tr><tr><td></td><td></td><td></td><td bgcolor='lightcyan'>[3,4]<br><b>P</b> [0.61000]</td><td bgcolor='lightcyan'>[3,5]</td><td bgcolor='lightcyan'>[3,6]<br><b>PP</b> [0.00840]<br>&nbsp; (k=4, PP -> P NP [1.0])</td></tr><tr><td></td><td></td><td></td><td></td><td bgcolor='lightcyan'>[4,5]<br><b>Det</b> [0.28000]</td><td bgcolor='lightcyan'>[4,6]<br><b>NP</b> [0.01378]<br>&nbsp; (k=5, NP -> Det N [0.41])</td></tr><tr><td></td><td></td><td></td><td></td><td></td><td bgcolor='lightcyan'>[5,6]<br><b>N</b> [0.12000]</td></tr>"
      ],
      "text/plain": [
       "<IPython.core.display.HTML object>"
      ]
     },
     "metadata": {},
     "output_type": "display_data"
    },
    {
     "data": {
      "image/png": "[encoded data removed]",
      "text/plain": [
       "Tree(S, [Tree(NP, [Tree(Name, ['Jack'])]), Tree(VP, [Tree(V, ['saw']), Tree(NP, [Tree(NP, [Tree(Name, ['Bob'])]), Tree(PP, [Tree(P, ['with']), Tree(NP, [Tree(Det, ['my']), Tree(N, ['cookie'])])])])])])"
      ]
     },
     "execution_count": 46,
     "metadata": {},
     "output_type": "execute_result"
    }
   ],
   "source": [
    "parse_CYK('Jack saw Bob with my cookie'.split(), toy_pcfg2)"
   ]
  },
  {
   "cell_type": "markdown",
   "metadata": {},
   "source": [
    "Finally, feel free to investage NLTK's grammar and parsing algorithms. These live in `nltk.grammar`, `nltk.tree` and `nltk.parse`. Here's a good entry point:"
   ]
  },
  {
   "cell_type": "code",
   "execution_count": 47,
   "metadata": {
    "collapsed": false
   },
   "outputs": [
    {
     "name": "stdout",
     "output_type": "stream",
     "text": [
      "A PCFG production: NP -> NP PP [0.25]\n",
      "    pcfg_prod.lhs()  => NP\n",
      "    pcfg_prod.rhs()  => (NP, PP)\n",
      "    pcfg_prod.prob() => 0.25\n",
      "\n",
      "A PCFG grammar: <Grammar with 23 productions>\n",
      "    grammar.start()       => S\n",
      "    grammar.productions() => [S -> NP VP [1.0],\n",
      "                           VP -> V NP [0.59],\n",
      "                           VP -> V [0.4],\n",
      "                           VP -> VP PP [0.01],\n",
      "                           NP -> Det N [0.41],\n",
      "                           NP -> Name [0.28],\n",
      "                           NP -> NP PP [0.31],\n",
      "                           PP -> P NP [1.0],\n",
      "                           V -> 'saw' [0.21],\n",
      "                           V -> 'ate' [0.51],\n",
      "                           V -> 'ran' [0.28],\n",
      "                           N -> 'boy' [0.11],\n",
      "                           N -> 'cookie' [0.12],\n",
      "                           N -> 'table' [0.13],\n",
      "                           N -> 'telescope' [0.14],\n",
      "                           N -> 'hill' [0.5],\n",
      "                           Name -> 'Jack' [0.52],\n",
      "                           Name -> 'Bob' [0.48],\n",
      "                           P -> 'with' [0.61],\n",
      "                           P -> 'under' [0.39],\n",
      "                           Det -> 'the' [0.41],\n",
      "                           Det -> 'a' [0.31],\n",
      "                           Det -> 'my' [0.28]]\n",
      "\n",
      "Induce PCFG grammar from treebank data:\n",
      "Grammar with 53 productions (start state = S)\n",
      "    JJ -> 'nonexecutive' [0.5]\n",
      "    NP -> CD NNS [0.125]\n",
      "    NP-SBJ -> NNP NNP [0.5]\n",
      "    NP-SBJ -> NP NP-SBJ|<,-ADJP> [0.5]\n",
      "    NNP -> 'Mr.' [0.125]\n",
      "    NNS -> 'years' [1.0]\n",
      "    NP -> DT NP|<JJ-NN> [0.125]\n",
      "    NP-SBJ|<,-ADJP> -> , NP-SBJ|<ADJP-,> [1.0]\n",
      "    NP|<JJ-NN> -> JJ NN [1.0]\n",
      "    NN -> 'director' [0.25]\n",
      "    NN -> 'group' [0.25]\n",
      "    NNP -> 'Dutch' [0.125]\n",
      "    CD -> '61' [0.5]\n",
      "    . -> '.' [1.0]\n",
      "    PP-CLR -> IN NP [1.0]\n",
      "    IN -> 'as' [0.5]\n",
      "    NNP -> 'N.V.' [0.125]\n",
      "    , -> ',' [1.0]\n",
      "    NP-TMP -> NNP CD [1.0]\n",
      "    NP -> NN [0.125]\n",
      "    VBG -> 'publishing' [1.0]\n",
      "    NNP -> 'Elsevier' [0.125]\n",
      "    MD -> 'will' [1.0]\n",
      "    NP -> NNP NNP [0.25]\n",
      "    VB -> 'join' [1.0]\n",
      "    PP -> IN NP [1.0]\n",
      "    VP|<NP-PP-CLR> -> NP VP|<PP-CLR-NP-TMP> [1.0]\n",
      "    DT -> 'a' [0.333333]\n",
      "    NP|<,-NP> -> , NP [1.0]\n",
      "    CD -> '29' [0.5]\n",
      "    NP-PRD -> NP PP [1.0]\n",
      "    ADJP -> NP JJ [1.0]\n",
      "    VP -> VB VP|<NP-PP-CLR> [0.333333]\n",
      "    VP -> MD VP [0.333333]\n",
      "    NP|<VBG-NN> -> VBG NN [1.0]\n",
      "    S -> NP-SBJ S|<VP-.> [1.0]\n",
      "    NNP -> 'Pierre' [0.125]\n",
      "    NNP -> 'Nov.' [0.125]\n",
      "    VBZ -> 'is' [1.0]\n",
      "    NP-SBJ|<ADJP-,> -> ADJP , [1.0]\n",
      "    NP -> NP NP|<,-NP> [0.125]\n",
      "    NN -> 'board' [0.25]\n",
      "    VP|<PP-CLR-NP-TMP> -> PP-CLR NP-TMP [1.0]\n",
      "    VP -> VBZ NP-PRD [0.333333]\n",
      "    S|<VP-.> -> VP . [1.0]\n",
      "    IN -> 'of' [0.5]\n",
      "    NNP -> 'Vinken' [0.25]\n",
      "    NP|<NNP-VBG> -> NNP NP|<VBG-NN> [1.0]\n",
      "    JJ -> 'old' [0.5]\n",
      "    DT -> 'the' [0.666667]\n",
      "    NP -> DT NP|<NNP-VBG> [0.125]\n",
      "    NP -> DT NN [0.125]\n",
      "    NN -> 'chairman' [0.25]\n",
      "\n",
      "Parse sentence using induced grammar:\n",
      "['Pierre', 'Vinken', ',', '61', 'years', 'old', ',', 'will', 'join', 'the', 'board', 'as', 'a', 'nonexecutive', 'director', 'Nov.', '29', '.']\n",
      "  |[-] . . . . . . . . . . . . . . . . .| [0:1] 'Pierre' [1.0]\n",
      "  |. [-] . . . . . . . . . . . . . . . .| [1:2] 'Vinken' [1.0]\n",
      "  |. . [-] . . . . . . . . . . . . . . .| [2:3] ','  [1.0]\n",
      "  |. . . [-] . . . . . . . . . . . . . .| [3:4] '61' [1.0]\n",
      "  |. . . . [-] . . . . . . . . . . . . .| [4:5] 'years' [1.0]\n",
      "  |. . . . . [-] . . . . . . . . . . . .| [5:6] 'old' [1.0]\n",
      "  |. . . . . . [-] . . . . . . . . . . .| [6:7] ','  [1.0]\n",
      "  |. . . . . . . [-] . . . . . . . . . .| [7:8] 'will' [1.0]\n",
      "  |. . . . . . . . [-] . . . . . . . . .| [8:9] 'join' [1.0]\n",
      "  |. . . . . . . . . [-] . . . . . . . .| [9:10] 'the' [1.0]\n",
      "  |. . . . . . . . . . [-] . . . . . . .| [10:11] 'board' [1.0]\n",
      "  |. . . . . . . . . . . [-] . . . . . .| [11:12] 'as' [1.0]\n",
      "  |. . . . . . . . . . . . [-] . . . . .| [12:13] 'a' [1.0]\n",
      "  |. . . . . . . . . . . . . [-] . . . .| [13:14] 'nonexecutive' [1.0]\n",
      "  |. . . . . . . . . . . . . . [-] . . .| [14:15] 'director' [1.0]\n",
      "  |. . . . . . . . . . . . . . . [-] . .| [15:16] 'Nov.' [1.0]\n",
      "  |. . . . . . . . . . . . . . . . [-] .| [16:17] '29' [1.0]\n",
      "  |. . . . . . . . . . . . . . . . . [-]| [17:18] '.' [1.0]\n",
      "  |. . . . . . . . . . . . . . . . . [-]| [17:18] '.' [1.0]\n",
      "  |. . . . . . . . . . . . . . . . . [-]| [17:18] .  -> '.' * [1.0]\n",
      "  |. . . . . . . . . . . . . . . . . > .| [17:17] .  -> * '.' [1.0]\n",
      "  |. . . . . . . . . . . . . . . . [-] .| [16:17] '29' [1.0]\n",
      "  |. . . . . . . . . . . . . . . [-] . .| [15:16] 'Nov.' [1.0]\n",
      "  |. . . . . . . . . . . . . . [-] . . .| [14:15] 'director' [1.0]\n",
      "  |. . . . . . . . . . . . . [-] . . . .| [13:14] 'nonexecutive' [1.0]\n",
      "  |. . . . . . . . . . . . [-] . . . . .| [12:13] 'a' [1.0]\n",
      "  |. . . . . . . . . . . [-] . . . . . .| [11:12] 'as' [1.0]\n",
      "  |. . . . . . . . . . [-] . . . . . . .| [10:11] 'board' [1.0]\n",
      "  |. . . . . . . . . [-] . . . . . . . .| [9:10] 'the' [1.0]\n",
      "  |. . . . . . . . [-] . . . . . . . . .| [8:9] 'join' [1.0]\n",
      "  |. . . . . . . . [-] . . . . . . . . .| [8:9] VB -> 'join' * [1.0]\n",
      "  |. . . . . . . . > . . . . . . . . . .| [8:8] VB -> * 'join' [1.0]\n",
      "  |. . . . . . . [-] . . . . . . . . . .| [7:8] 'will' [1.0]\n",
      "  |. . . . . . . [-] . . . . . . . . . .| [7:8] MD -> 'will' * [1.0]\n",
      "  |. . . . . . . > . . . . . . . . . . .| [7:7] MD -> * 'will' [1.0]\n",
      "  |. . . . . . [-] . . . . . . . . . . .| [6:7] ','  [1.0]\n",
      "  |. . . . . . [-] . . . . . . . . . . .| [6:7] ,  -> ',' * [1.0]\n",
      "  |. . . . . . [-> . . . . . . . . . . .| [6:7] NP|<,-NP> -> , * NP [1.0]\n",
      "  |. . . . . . [-> . . . . . . . . . . .| [6:7] NP-SBJ|<,-ADJP> -> , * NP-SBJ|<ADJP-,> [1.0]\n",
      "  |. . . . . . > . . . . . . . . . . . .| [6:6] NP|<,-NP> -> * , NP [1.0]\n",
      "  |. . . . . . > . . . . . . . . . . . .| [6:6] NP-SBJ|<,-ADJP> -> * , NP-SBJ|<ADJP-,> [1.0]\n",
      "  |. . . . . . > . . . . . . . . . . . .| [6:6] ,  -> * ',' [1.0]\n",
      "  |. . . . . [-] . . . . . . . . . . . .| [5:6] 'old' [1.0]\n",
      "  |. . . . [-] . . . . . . . . . . . . .| [4:5] 'years' [1.0]\n",
      "  |. . . . [-] . . . . . . . . . . . . .| [4:5] NNS -> 'years' * [1.0]\n",
      "  |. . . . > . . . . . . . . . . . . . .| [4:4] NNS -> * 'years' [1.0]\n",
      "  |. . . [-] . . . . . . . . . . . . . .| [3:4] '61' [1.0]\n",
      "  |. . [-] . . . . . . . . . . . . . . .| [2:3] ','  [1.0]\n",
      "  |. . [-] . . . . . . . . . . . . . . .| [2:3] ,  -> ',' * [1.0]\n",
      "  |. . [-> . . . . . . . . . . . . . . .| [2:3] NP|<,-NP> -> , * NP [1.0]\n",
      "  |. . [-> . . . . . . . . . . . . . . .| [2:3] NP-SBJ|<,-ADJP> -> , * NP-SBJ|<ADJP-,> [1.0]\n",
      "  |. . > . . . . . . . . . . . . . . . .| [2:2] NP|<,-NP> -> * , NP [1.0]\n",
      "  |. . > . . . . . . . . . . . . . . . .| [2:2] NP-SBJ|<,-ADJP> -> * , NP-SBJ|<ADJP-,> [1.0]\n",
      "  |. . > . . . . . . . . . . . . . . . .| [2:2] ,  -> * ',' [1.0]\n",
      "  |. [-] . . . . . . . . . . . . . . . .| [1:2] 'Vinken' [1.0]\n",
      "  |[-] . . . . . . . . . . . . . . . . .| [0:1] 'Pierre' [1.0]\n",
      "  |. . . . . . . . . [-] . . . . . . . .| [9:10] DT -> 'the' * [0.6666666666666666]\n",
      "  |. . . . . . . . . > . . . . . . . . .| [9:9] DT -> * 'the' [0.6666666666666666]\n",
      "  |. . . [-] . . . . . . . . . . . . . .| [3:4] CD -> '61' * [0.5]\n",
      "  |. . . > . . . . . . . . . . . . . . .| [3:3] CD -> * '61' [0.5]\n",
      "  |. . . . . [-] . . . . . . . . . . . .| [5:6] JJ -> 'old' * [0.5]\n",
      "  |. . . . . > . . . . . . . . . . . . .| [5:5] NP|<JJ-NN> -> * JJ NN [1.0]\n",
      "  |. . . . . [-> . . . . . . . . . . . .| [5:6] NP|<JJ-NN> -> JJ * NN [0.5]\n",
      "  |. . . . . > . . . . . . . . . . . . .| [5:5] JJ -> * 'old' [0.5]\n",
      "  |. . . . . . . . . . . [-] . . . . . .| [11:12] IN -> 'as' * [0.5]\n",
      "  |. . . . . . . . . . . > . . . . . . .| [11:11] PP -> * IN NP [1.0]\n",
      "  |. . . . . . . . . . . > . . . . . . .| [11:11] PP-CLR -> * IN NP [1.0]\n",
      "  |. . . . . . . . . . . [-> . . . . . .| [11:12] PP -> IN * NP [0.5]\n",
      "  |. . . . . . . . . . . [-> . . . . . .| [11:12] PP-CLR -> IN * NP [0.5]\n",
      "  |. . . . . . . . . . . > . . . . . . .| [11:11] IN -> * 'as' [0.5]\n",
      "  |. . . . . . . . . . . . . [-] . . . .| [13:14] JJ -> 'nonexecutive' * [0.5]\n",
      "  |. . . . . . . . . . . . . > . . . . .| [13:13] NP|<JJ-NN> -> * JJ NN [1.0]\n",
      "  |. . . . . . . . . . . . . [-> . . . .| [13:14] NP|<JJ-NN> -> JJ * NN [0.5]\n",
      "  |. . . . . . . . . . . . . > . . . . .| [13:13] JJ -> * 'nonexecutive' [0.5]\n",
      "  |. . . . . . . . . . . . . . . . [-] .| [16:17] CD -> '29' * [0.5]\n",
      "  |. . . . . . . . . . . . . . . . > . .| [16:16] CD -> * '29' [0.5]\n",
      "  |. . . . . . . [-> . . . . . . . . . .| [7:8] VP -> MD * VP [0.3333333333333333]\n",
      "  |. . . . . . . > . . . . . . . . . . .| [7:7] VP -> * MD VP [0.3333333333333333]\n",
      "  |. . . . . . . . [-> . . . . . . . . .| [8:9] VP -> VB * VP|<NP-PP-CLR> [0.3333333333333333]\n",
      "  |. . . . . . . . > . . . . . . . . . .| [8:8] VP -> * VB VP|<NP-PP-CLR> [0.3333333333333333]\n",
      "  |. . . . . . . . . . . . [-] . . . . .| [12:13] DT -> 'a' * [0.3333333333333333]\n",
      "  |. . . . . . . . . . . . > . . . . . .| [12:12] DT -> * 'a' [0.3333333333333333]\n",
      "  |. [-] . . . . . . . . . . . . . . . .| [1:2] NNP -> 'Vinken' * [0.25]\n",
      "  |. > . . . . . . . . . . . . . . . . .| [1:1] NP|<NNP-VBG> -> * NNP NP|<VBG-NN> [1.0]\n",
      "  |. > . . . . . . . . . . . . . . . . .| [1:1] NP-TMP -> * NNP CD [1.0]\n",
      "  |. > . . . . . . . . . . . . . . . . .| [1:1] NP-SBJ -> * NNP NNP [0.5]\n",
      "  |. [-> . . . . . . . . . . . . . . . .| [1:2] NP|<NNP-VBG> -> NNP * NP|<VBG-NN> [0.25]\n",
      "  |. [-> . . . . . . . . . . . . . . . .| [1:2] NP-TMP -> NNP * CD [0.25]\n",
      "  |. > . . . . . . . . . . . . . . . . .| [1:1] NP -> * NNP NNP [0.25]\n",
      "  |. > . . . . . . . . . . . . . . . . .| [1:1] NNP -> * 'Vinken' [0.25]\n",
      "  |. . . . . . . . . . [-] . . . . . . .| [10:11] NN -> 'board' * [0.25]\n",
      "  |. . . . . . . . . . > . . . . . . . .| [10:10] NN -> * 'board' [0.25]\n",
      "  |. . . . . . . . . . . . . . [-] . . .| [14:15] NN -> 'director' * [0.25]\n",
      "  |. . . . . . . . . . . . . . > . . . .| [14:14] NN -> * 'director' [0.25]\n",
      "  |. . . . . . . . . . . . . . > . . . .| [14:14] NP -> * NN [0.125]\n",
      "  |. . . . . . . . . . > . . . . . . . .| [10:10] NP -> * NN [0.125]\n",
      "  |. [-> . . . . . . . . . . . . . . . .| [1:2] NP-SBJ -> NNP * NNP [0.125]\n",
      "  |. . . . . . . . . . . . > . . . . . .| [12:12] NP -> * DT NN [0.125]\n",
      "  |. . . . . . . . . . . . > . . . . . .| [12:12] NP -> * DT NP|<NNP-VBG> [0.125]\n",
      "  |. . . . . . . . . . . . > . . . . . .| [12:12] NP -> * DT NP|<JJ-NN> [0.125]\n",
      "  |. . . . . . . . . . . . . . . . > . .| [16:16] NP -> * CD NNS [0.125]\n",
      "  |. . . . . . . . . . . . . [---] . . .| [13:15] NP|<JJ-NN> -> JJ NN * [0.125]\n",
      "  |. . . > . . . . . . . . . . . . . . .| [3:3] NP -> * CD NNS [0.125]\n",
      "  |. . . . . . . . . > . . . . . . . . .| [9:9] NP -> * DT NN [0.125]\n",
      "  |. . . . . . . . . > . . . . . . . . .| [9:9] NP -> * DT NP|<NNP-VBG> [0.125]\n",
      "  |. . . . . . . . . > . . . . . . . . .| [9:9] NP -> * DT NP|<JJ-NN> [0.125]\n",
      "  |[-] . . . . . . . . . . . . . . . . .| [0:1] NNP -> 'Pierre' * [0.125]\n",
      "  |> . . . . . . . . . . . . . . . . . .| [0:0] NP|<NNP-VBG> -> * NNP NP|<VBG-NN> [1.0]\n",
      "  |> . . . . . . . . . . . . . . . . . .| [0:0] NP-TMP -> * NNP CD [1.0]\n",
      "  |> . . . . . . . . . . . . . . . . . .| [0:0] NP-SBJ -> * NNP NNP [0.5]\n",
      "  |> . . . . . . . . . . . . . . . . . .| [0:0] NP -> * NNP NNP [0.25]\n",
      "  |[-> . . . . . . . . . . . . . . . . .| [0:1] NP|<NNP-VBG> -> NNP * NP|<VBG-NN> [0.125]\n",
      "  |[-> . . . . . . . . . . . . . . . . .| [0:1] NP-TMP -> NNP * CD [0.125]\n",
      "  |> . . . . . . . . . . . . . . . . . .| [0:0] NNP -> * 'Pierre' [0.125]\n",
      "  |. . . . . . . . . . . . . . . [-] . .| [15:16] NNP -> 'Nov.' * [0.125]\n",
      "  |. . . . . . . . . . . . . . . > . . .| [15:15] NP|<NNP-VBG> -> * NNP NP|<VBG-NN> [1.0]\n",
      "  |. . . . . . . . . . . . . . . > . . .| [15:15] NP-TMP -> * NNP CD [1.0]\n",
      "  |. . . . . . . . . . . . . . . > . . .| [15:15] NP-SBJ -> * NNP NNP [0.5]\n",
      "  |. . . . . . . . . . . . . . . > . . .| [15:15] NP -> * NNP NNP [0.25]\n",
      "  |. . . . . . . . . . . . . . . [-> . .| [15:16] NP|<NNP-VBG> -> NNP * NP|<VBG-NN> [0.125]\n",
      "  |. . . . . . . . . . . . . . . [-> . .| [15:16] NP-TMP -> NNP * CD [0.125]\n",
      "  |. . . . . . . . . . . . . . . > . . .| [15:15] NNP -> * 'Nov.' [0.125]\n",
      "  |. . . . . . . . . [-> . . . . . . . .| [9:10] NP -> DT * NN [0.08333333333333333]\n",
      "  |. . . . . . . . . [-> . . . . . . . .| [9:10] NP -> DT * NP|<NNP-VBG> [0.08333333333333333]\n",
      "  |. . . . . . . . . [-> . . . . . . . .| [9:10] NP -> DT * NP|<JJ-NN> [0.08333333333333333]\n",
      "  |. . . . . . . . . . . . . . . [---] .| [15:17] NP-TMP -> NNP CD * [0.0625]\n",
      "  |. . . . . . . . . . . . . . . [-> . .| [15:16] NP-SBJ -> NNP * NNP [0.0625]\n",
      "  |[-> . . . . . . . . . . . . . . . . .| [0:1] NP-SBJ -> NNP * NNP [0.0625]\n",
      "  |. [-> . . . . . . . . . . . . . . . .| [1:2] NP -> NNP * NNP [0.0625]\n",
      "  |. . . . . . . . . . . . . . . . [-> .| [16:17] NP -> CD * NNS [0.0625]\n",
      "  |. . . [-> . . . . . . . . . . . . . .| [3:4] NP -> CD * NNS [0.0625]\n",
      "  |. . . [---] . . . . . . . . . . . . .| [3:5] NP -> CD NNS * [0.0625]\n",
      "  |. . . > . . . . . . . . . . . . . . .| [3:3] ADJP -> * NP JJ [1.0]\n",
      "  |. . . > . . . . . . . . . . . . . . .| [3:3] NP-PRD -> * NP PP [1.0]\n",
      "  |. . . > . . . . . . . . . . . . . . .| [3:3] VP|<NP-PP-CLR> -> * NP VP|<PP-CLR-NP-TMP> [1.0]\n",
      "  |. . . > . . . . . . . . . . . . . . .| [3:3] NP-SBJ -> * NP NP-SBJ|<,-ADJP> [0.5]\n",
      "  |. . . > . . . . . . . . . . . . . . .| [3:3] NP -> * NP NP|<,-NP> [0.125]\n",
      "  |. . . [---> . . . . . . . . . . . . .| [3:5] ADJP -> NP * JJ [0.0625]\n",
      "  |. . . [---> . . . . . . . . . . . . .| [3:5] NP-PRD -> NP * PP [0.0625]\n",
      "  |. . . [---> . . . . . . . . . . . . .| [3:5] VP|<NP-PP-CLR> -> NP * VP|<PP-CLR-NP-TMP> [0.0625]\n",
      "  |. . [-----] . . . . . . . . . . . . .| [2:5] NP|<,-NP> -> , NP * [0.0625]\n",
      "  |. . . . . . . . . . . . [-> . . . . .| [12:13] NP -> DT * NN [0.041666666666666664]\n",
      "  |. . . . . . . . . . . . [-> . . . . .| [12:13] NP -> DT * NP|<NNP-VBG> [0.041666666666666664]\n",
      "  |. . . . . . . . . . . . [-> . . . . .| [12:13] NP -> DT * NP|<JJ-NN> [0.041666666666666664]\n",
      "  |. . . [-----] . . . . . . . . . . . .| [3:6] ADJP -> NP JJ * [0.03125]\n",
      "  |. . . > . . . . . . . . . . . . . . .| [3:3] NP-SBJ|<ADJP-,> -> * ADJP , [1.0]\n",
      "  |. . . [-----> . . . . . . . . . . . .| [3:6] NP-SBJ|<ADJP-,> -> ADJP * , [0.03125]\n",
      "  |. . . [-------] . . . . . . . . . . .| [3:7] NP-SBJ|<ADJP-,> -> ADJP , * [0.03125]\n",
      "  |. . [---------] . . . . . . . . . . .| [2:7] NP-SBJ|<,-ADJP> -> , NP-SBJ|<ADJP-,> * [0.03125]\n",
      "  |. . . [---> . . . . . . . . . . . . .| [3:5] NP-SBJ -> NP * NP-SBJ|<,-ADJP> [0.03125]\n",
      "  |. . . . . . . . . . . . . . . [-> . .| [15:16] NP -> NNP * NNP [0.03125]\n",
      "  |[-> . . . . . . . . . . . . . . . . .| [0:1] NP -> NNP * NNP [0.03125]\n",
      "  |. . . . . . . . . . . . . . [-] . . .| [14:15] NP -> NN * [0.03125]\n",
      "  |. . . . . . . . . . . . . . > . . . .| [14:14] ADJP -> * NP JJ [1.0]\n",
      "  |. . . . . . . . . . . . . . > . . . .| [14:14] NP-PRD -> * NP PP [1.0]\n",
      "  |. . . . . . . . . . . . . . > . . . .| [14:14] VP|<NP-PP-CLR> -> * NP VP|<PP-CLR-NP-TMP> [1.0]\n",
      "  |. . . . . . . . . . . . . . > . . . .| [14:14] NP-SBJ -> * NP NP-SBJ|<,-ADJP> [0.5]\n",
      "  |. . . . . . . . . . . . . . > . . . .| [14:14] NP -> * NP NP|<,-NP> [0.125]\n",
      "  |. . . . . . . . . . . . . . [-> . . .| [14:15] ADJP -> NP * JJ [0.03125]\n",
      "  |. . . . . . . . . . . . . . [-> . . .| [14:15] NP-PRD -> NP * PP [0.03125]\n",
      "  |. . . . . . . . . . . . . . [-> . . .| [14:15] VP|<NP-PP-CLR> -> NP * VP|<PP-CLR-NP-TMP> [0.03125]\n",
      "  |. . . . . . . . . . [-] . . . . . . .| [10:11] NP -> NN * [0.03125]\n",
      "  |. . . . . . . . . . > . . . . . . . .| [10:10] ADJP -> * NP JJ [1.0]\n",
      "  |. . . . . . . . . . > . . . . . . . .| [10:10] NP-PRD -> * NP PP [1.0]\n",
      "  |. . . . . . . . . . > . . . . . . . .| [10:10] VP|<NP-PP-CLR> -> * NP VP|<PP-CLR-NP-TMP> [1.0]\n",
      "  |. . . . . . . . . . > . . . . . . . .| [10:10] NP-SBJ -> * NP NP-SBJ|<,-ADJP> [0.5]\n",
      "  |. . . . . . . . . . > . . . . . . . .| [10:10] NP -> * NP NP|<,-NP> [0.125]\n",
      "  |. . . . . . . . . . [-> . . . . . . .| [10:11] ADJP -> NP * JJ [0.03125]\n",
      "  |. . . . . . . . . . [-> . . . . . . .| [10:11] NP-PRD -> NP * PP [0.03125]\n",
      "  |. . . . . . . . . . [-> . . . . . . .| [10:11] VP|<NP-PP-CLR> -> NP * VP|<PP-CLR-NP-TMP> [0.03125]\n",
      "  |. . . . . . . . . [---] . . . . . . .| [9:11] NP -> DT NN * [0.020833333333333332]\n",
      "  |. . . . . . . . . > . . . . . . . . .| [9:9] ADJP -> * NP JJ [1.0]\n",
      "  |. . . . . . . . . > . . . . . . . . .| [9:9] NP-PRD -> * NP PP [1.0]\n",
      "  |. . . . . . . . . > . . . . . . . . .| [9:9] VP|<NP-PP-CLR> -> * NP VP|<PP-CLR-NP-TMP> [1.0]\n",
      "  |. . . . . . . . . > . . . . . . . . .| [9:9] NP-SBJ -> * NP NP-SBJ|<,-ADJP> [0.5]\n",
      "  |. . . . . . . . . > . . . . . . . . .| [9:9] NP -> * NP NP|<,-NP> [0.125]\n",
      "  |. . . . . . . . . [---> . . . . . . .| [9:11] ADJP -> NP * JJ [0.020833333333333332]\n",
      "  |. . . . . . . . . [---> . . . . . . .| [9:11] NP-PRD -> NP * PP [0.020833333333333332]\n",
      "  |. . . . . . . . . [---> . . . . . . .| [9:11] VP|<NP-PP-CLR> -> NP * VP|<PP-CLR-NP-TMP> [0.020833333333333332]\n",
      "  |. . . . . . . . . . [-> . . . . . . .| [10:11] NP-SBJ -> NP * NP-SBJ|<,-ADJP> [0.015625]\n",
      "  |. . . . . . . . . . . . . . [-> . . .| [14:15] NP-SBJ -> NP * NP-SBJ|<,-ADJP> [0.015625]\n",
      "  |[---] . . . . . . . . . . . . . . . .| [0:2] NP-SBJ -> NNP NNP * [0.015625]\n",
      "  |> . . . . . . . . . . . . . . . . . .| [0:0] S  -> * NP-SBJ S|<VP-.> [1.0]\n",
      "  |[---> . . . . . . . . . . . . . . . .| [0:2] S  -> NP-SBJ * S|<VP-.> [0.015625]\n",
      "  |. . . . . . . . . [---> . . . . . . .| [9:11] NP-SBJ -> NP * NP-SBJ|<,-ADJP> [0.010416666666666666]\n",
      "  |[---] . . . . . . . . . . . . . . . .| [0:2] NP -> NNP NNP * [0.0078125]\n",
      "  |> . . . . . . . . . . . . . . . . . .| [0:0] ADJP -> * NP JJ [1.0]\n",
      "  |> . . . . . . . . . . . . . . . . . .| [0:0] NP-PRD -> * NP PP [1.0]\n",
      "  |> . . . . . . . . . . . . . . . . . .| [0:0] VP|<NP-PP-CLR> -> * NP VP|<PP-CLR-NP-TMP> [1.0]\n",
      "  |> . . . . . . . . . . . . . . . . . .| [0:0] NP-SBJ -> * NP NP-SBJ|<,-ADJP> [0.5]\n",
      "  |> . . . . . . . . . . . . . . . . . .| [0:0] NP -> * NP NP|<,-NP> [0.125]\n",
      "  |[---> . . . . . . . . . . . . . . . .| [0:2] ADJP -> NP * JJ [0.0078125]\n",
      "  |[---> . . . . . . . . . . . . . . . .| [0:2] NP-PRD -> NP * PP [0.0078125]\n",
      "  |[---> . . . . . . . . . . . . . . . .| [0:2] VP|<NP-PP-CLR> -> NP * VP|<PP-CLR-NP-TMP> [0.0078125]\n",
      "  |. . . [---> . . . . . . . . . . . . .| [3:5] NP -> NP * NP|<,-NP> [0.0078125]\n",
      "  |. . . . . . . . . . . . [-----] . . .| [12:15] NP -> DT NP|<JJ-NN> * [0.005208333333333333]\n",
      "  |. . . . . . . . . . . . > . . . . . .| [12:12] ADJP -> * NP JJ [1.0]\n",
      "  |. . . . . . . . . . . . > . . . . . .| [12:12] NP-PRD -> * NP PP [1.0]\n",
      "  |. . . . . . . . . . . . > . . . . . .| [12:12] VP|<NP-PP-CLR> -> * NP VP|<PP-CLR-NP-TMP> [1.0]\n",
      "  |. . . . . . . . . . . . > . . . . . .| [12:12] NP-SBJ -> * NP NP-SBJ|<,-ADJP> [0.5]\n",
      "  |. . . . . . . . . . . . > . . . . . .| [12:12] NP -> * NP NP|<,-NP> [0.125]\n",
      "  |. . . . . . . . . . . . [-----> . . .| [12:15] ADJP -> NP * JJ [0.005208333333333333]\n",
      "  |. . . . . . . . . . . . [-----> . . .| [12:15] NP-PRD -> NP * PP [0.005208333333333333]\n",
      "  |. . . . . . . . . . . . [-----> . . .| [12:15] VP|<NP-PP-CLR> -> NP * VP|<PP-CLR-NP-TMP> [0.005208333333333333]\n",
      "  |[---> . . . . . . . . . . . . . . . .| [0:2] NP-SBJ -> NP * NP-SBJ|<,-ADJP> [0.00390625]\n",
      "  |. . . . . . . . . . [-> . . . . . . .| [10:11] NP -> NP * NP|<,-NP> [0.00390625]\n",
      "  |. . . . . . . . . . . . . . [-> . . .| [14:15] NP -> NP * NP|<,-NP> [0.00390625]\n",
      "  |. . . . . . . . . . . . [-----> . . .| [12:15] NP-SBJ -> NP * NP-SBJ|<,-ADJP> [0.0026041666666666665]\n",
      "  |. . . . . . . . . . . [-------] . . .| [11:15] PP -> IN NP * [0.0026041666666666665]\n",
      "  |. . . . . . . . . . . [-------] . . .| [11:15] PP-CLR -> IN NP * [0.0026041666666666665]\n",
      "  |. . . . . . . . . . . > . . . . . . .| [11:11] VP|<PP-CLR-NP-TMP> -> * PP-CLR NP-TMP [1.0]\n",
      "  |. . . . . . . . . . . [-------> . . .| [11:15] VP|<PP-CLR-NP-TMP> -> PP-CLR * NP-TMP [0.0026041666666666665]\n",
      "  |. . . . . . . . . [---> . . . . . . .| [9:11] NP -> NP * NP|<,-NP> [0.0026041666666666665]\n",
      "  |[---> . . . . . . . . . . . . . . . .| [0:2] NP -> NP * NP|<,-NP> [0.0009765625]\n",
      "  |. . . . . . . . . . . . [-----> . . .| [12:15] NP -> NP * NP|<,-NP> [0.0006510416666666666]\n",
      "  |. . . . . . . . . . . [-----------] .| [11:17] VP|<PP-CLR-NP-TMP> -> PP-CLR NP-TMP * [0.00016276041666666666]\n",
      "  |[-------------] . . . . . . . . . . .| [0:7] NP-SBJ -> NP NP-SBJ|<,-ADJP> * [0.0001220703125]\n",
      "  |[-------------> . . . . . . . . . . .| [0:7] S  -> NP-SBJ * S|<VP-.> [0.0001220703125]\n",
      "  |. . . . . . . . . . [---------] . . .| [10:15] NP-PRD -> NP PP * [8.138020833333333e-05]\n",
      "  |[---------] . . . . . . . . . . . . .| [0:5] NP -> NP NP|<,-NP> * [6.103515625e-05]\n",
      "  |[---------> . . . . . . . . . . . . .| [0:5] ADJP -> NP * JJ [6.103515625e-05]\n",
      "  |[---------> . . . . . . . . . . . . .| [0:5] NP-PRD -> NP * PP [6.103515625e-05]\n",
      "  |[---------> . . . . . . . . . . . . .| [0:5] VP|<NP-PP-CLR> -> NP * VP|<PP-CLR-NP-TMP> [6.103515625e-05]\n",
      "  |. . . . . . . . . [-----------] . . .| [9:15] NP-PRD -> NP PP * [5.425347222222222e-05]\n",
      "  |[-----------] . . . . . . . . . . . .| [0:6] ADJP -> NP JJ * [3.0517578125e-05]\n",
      "  |> . . . . . . . . . . . . . . . . . .| [0:0] NP-SBJ|<ADJP-,> -> * ADJP , [1.0]\n",
      "  |[-----------> . . . . . . . . . . . .| [0:6] NP-SBJ|<ADJP-,> -> ADJP * , [3.0517578125e-05]\n",
      "  |[-------------] . . . . . . . . . . .| [0:7] NP-SBJ|<ADJP-,> -> ADJP , * [3.0517578125e-05]\n",
      "  |[---------> . . . . . . . . . . . . .| [0:5] NP-SBJ -> NP * NP-SBJ|<,-ADJP> [3.0517578125e-05]\n",
      "  |[---------> . . . . . . . . . . . . .| [0:5] NP -> NP * NP|<,-NP> [7.62939453125e-06]\n",
      "  |. . . . . . . . . . [-------------] .| [10:17] VP|<NP-PP-CLR> -> NP VP|<PP-CLR-NP-TMP> * [5.086263020833333e-06]\n",
      "  |. . . . . . . . . [---------------] .| [9:17] VP|<NP-PP-CLR> -> NP VP|<PP-CLR-NP-TMP> * [3.3908420138888887e-06]\n",
      "  |. . . . . . . . [-----------------] .| [8:17] VP -> VB VP|<NP-PP-CLR> * [1.1302806712962962e-06]\n",
      "  |. . . . . . . . > . . . . . . . . . .| [8:8] S|<VP-.> -> * VP . [1.0]\n",
      "  |. . . . . . . . [-----------------> .| [8:17] S|<VP-.> -> VP * . [1.1302806712962962e-06]\n",
      "  |. . . . . . . . [-------------------]| [8:18] S|<VP-.> -> VP . * [1.1302806712962962e-06]\n",
      "  |. . . . . . . [-------------------] .| [7:17] VP -> MD VP * [3.767602237654321e-07]\n",
      "  |. . . . . . . > . . . . . . . . . . .| [7:7] S|<VP-.> -> * VP . [1.0]\n",
      "  |. . . . . . . [-------------------> .| [7:17] S|<VP-.> -> VP * . [3.767602237654321e-07]\n",
      "  |. . . . . . . [---------------------]| [7:18] S|<VP-.> -> VP . * [3.767602237654321e-07]\n",
      "  |[===================================]| [0:18] S  -> NP-SBJ S|<VP-.> * [4.599123825261622e-11]\n",
      "(S\n",
      "  (NP-SBJ\n",
      "    (NP (NNP Pierre) (NNP Vinken))\n",
      "    (NP-SBJ|<,-ADJP>\n",
      "      (, ,)\n",
      "      (NP-SBJ|<ADJP-,>\n",
      "        (ADJP (NP (CD 61) (NNS years)) (JJ old))\n",
      "        (, ,))))\n",
      "  (S|<VP-.>\n",
      "    (VP\n",
      "      (MD will)\n",
      "      (VP\n",
      "        (VB join)\n",
      "        (VP|<NP-PP-CLR>\n",
      "          (NP (DT the) (NN board))\n",
      "          (VP|<PP-CLR-NP-TMP>\n",
      "            (PP-CLR\n",
      "              (IN as)\n",
      "              (NP\n",
      "                (DT a)\n",
      "                (NP|<JJ-NN>\n",
      "                  (JJ nonexecutive)\n",
      "                  (NN director))))\n",
      "            (NP-TMP (NNP Nov.) (CD 29))))))\n",
      "    (. .))) (p=4.59912e-11)\n"
     ]
    }
   ],
   "source": [
    "import nltk.grammar\n",
    "nltk.grammar.pcfg_demo()"
   ]
  },
  {
   "cell_type": "code",
   "execution_count": null,
   "metadata": {
    "collapsed": true
   },
   "outputs": [],
   "source": []
  }
 ],
 "metadata": {
  "anaconda-cloud": {},
  "kernelspec": {
   "display_name": "Python [conda root]",
   "language": "python",
   "name": "conda-root-py"
  },
  "language_info": {
   "codemirror_mode": {
    "name": "ipython",
    "version": 3
   },
   "file_extension": ".py",
   "mimetype": "text/x-python",
   "name": "python",
   "nbconvert_exporter": "python",
   "pygments_lexer": "ipython3",
   "version": "3.5.2"
  }
 },
 "nbformat": 4,
 "nbformat_minor": 0
}
